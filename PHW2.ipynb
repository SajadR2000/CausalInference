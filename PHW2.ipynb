{
 "cells": [
  {
   "cell_type": "markdown",
   "metadata": {},
   "source": [
    "<div align=center style=\"direction:rtl\">\n",
    "    <font face=\"XB Niloofar\", size=5>\n",
    "        به نام خدا\n",
    "        <br/>\n",
    "        <br/>\n",
    "        دانشگاه صنعتی شریف- دانشکده برق\n",
    "        <br />\n",
    "        <br/>\n",
    "        استنتاج علّی\n",
    "        <br />\n",
    "        <br />\n",
    "        تمرین کامپیوتری دوم\n",
    "        <br/>\n",
    "        <br/>\n",
    "        دکتر صالح\n",
    "        <br />\n",
    "        <br/>\n",
    "        سجاد رحمانیان\n",
    "    </font>\n",
    "</div>"
   ]
  },
  {
   "cell_type": "markdown",
   "metadata": {},
   "source": [
    "<font color=\"orange\" size=\"5\">\n",
    "Importing necessary libraries:\n",
    "</font>"
   ]
  },
  {
   "cell_type": "code",
   "execution_count": 6,
   "metadata": {},
   "outputs": [],
   "source": [
    "import numpy as np\n",
    "from itertools import chain, combinations\n",
    "from scipy.stats import pearsonr, norm\n",
    "from sklearn.linear_model import LinearRegression\n",
    "import pandas as pd\n",
    "import matplotlib.pyplot as plt\n",
    "import networkx as nx\n",
    "from math import nan, isnan\n",
    "import time\n",
    "from tqdm import tqdm\n",
    "from random import choice, choices, sample\n",
    "import warnings\n",
    "warnings.filterwarnings(\"ignore\", category=UserWarning)"
   ]
  },
  {
   "cell_type": "markdown",
   "metadata": {},
   "source": [
    "<font color=\"orange\" size=\"4\">\n",
    "A function for drawing graphs:\n",
    "</font>"
   ]
  },
  {
   "cell_type": "code",
   "execution_count": 7,
   "metadata": {},
   "outputs": [],
   "source": [
    "def show_graph_with_labels(adjacency_matrix, mylabels=None):\n",
    "    if mylabels is None:\n",
    "        mylabels = np.arange(adjacency_matrix.shape[0])\n",
    "    rows, cols = np.where(adjacency_matrix == 1)\n",
    "    edges = zip(rows.tolist(), cols.tolist())\n",
    "    gr = nx.Graph()\n",
    "    m = {i:mylabels[i] for i in range(len(mylabels))}\n",
    "    gr.add_nodes_from(m)\n",
    "    gr.add_edges_from(edges)\n",
    "    nx.draw(gr, node_size=500, labels=m, with_labels=True)\n",
    "    plt.show()"
   ]
  },
  {
   "cell_type": "markdown",
   "metadata": {},
   "source": [
    "<font color=\"orange\" size=4>\n",
    "    Implementing indepTest. To read more about partial correlation read\n",
    "    <font color=\"blue\">\n",
    "        <a href=\"https://en.wikipedia.org/wiki/Partial_correlation\">this page</a>\n",
    "    </font>\n",
    "</font>"
   ]
  },
  {
   "cell_type": "code",
   "execution_count": 8,
   "metadata": {},
   "outputs": [],
   "source": [
    "# Computing partial correaltion using linear regression:\n",
    "def indepTest(x, y, S, data, alpha):\n",
    "    # This function tests whether x,y, given S are independent.\n",
    "    # output 1 means they are and output 0 means they're not.\n",
    "    # x, y: data indexes that we want to calculate their partial correlation\n",
    "    # S: condition set.\n",
    "    # data: data matrix\n",
    "    # alpha: confidence interval\n",
    "    if S == []:\n",
    "        corr, _ = pearsonr(data[:, x], data[:, y])\n",
    "        Snorm = 0\n",
    "        N = data.shape[0]\n",
    "    else:\n",
    "        Z = data[:, S]\n",
    "        X = data[:, x]\n",
    "        Y = data[:, y]\n",
    "        modelX = LinearRegression().fit(Z, X)\n",
    "        modelY = LinearRegression().fit(Z, Y)\n",
    "        Xhat = modelX.predict(Z)\n",
    "        Yhat = modelY.predict(Z)\n",
    "        ex = X - Xhat\n",
    "        ey = Y - Yhat\n",
    "        N = data.shape[0]\n",
    "        Snorm = len(S)\n",
    "        corr = np.dot(ex, ey) / np.sqrt(np.dot(ex, ex) * np.dot(ey, ey))\n",
    "    if corr == 1:\n",
    "        corr = 0.9999999\n",
    "    elif corr == -1:\n",
    "        corr = -0.999999\n",
    "    ztrans = 0.5 * np.log((1 + corr) / (1 - corr))\n",
    "    if np.abs(ztrans) * np.sqrt(N - Snorm - 3) < norm.ppf(1 - alpha / 2):\n",
    "        return 1\n",
    "    else:\n",
    "        return 0"
   ]
  },
  {
   "cell_type": "markdown",
   "metadata": {},
   "source": [
    "<font color=\"orange\" size=4>\n",
    "        A) Implementing PC algorithm:\n",
    "</font>"
   ]
  },
  {
   "cell_type": "code",
   "execution_count": 9,
   "metadata": {},
   "outputs": [],
   "source": [
    "def pc(data, indepTest, alpha, labels):\n",
    "    \n",
    "    # data: observational data that we want to find its graph.\n",
    "    # indepTest: a function of the form indepTest(x, y, S, data, alpha) which determines the independence of x,y given S.\n",
    "    # alpha: confidence interval\n",
    "    # labels: list of nodes' labels.\n",
    "    \n",
    "    def adj(C, i):\n",
    "        # This function returns nodes adjacent to i\n",
    "        # C: Graph matrix\n",
    "        # i: i'th node\n",
    "        return np.where(C[i, :] == 1)[0]\n",
    "    \n",
    "    def max_adj(C):\n",
    "        # This function determines maximum number of nodes adjacent to some node in C\n",
    "        # C: Graph matrix\n",
    "        m = 0\n",
    "        for i in range(len(labels)):\n",
    "            if len(adj(C, i)) > m:\n",
    "                m = len(adj(C, i))\n",
    "        return m\n",
    "    \n",
    "    def lSubsets(iterable, l):\n",
    "        # This function finds all subsets of an iterable with cardinality equal to l\n",
    "        # iterale: the list or any other iterable object whose subsets we want to find\n",
    "        # l: cardinality of subsets we're looking for\n",
    "        s = list(iterable)\n",
    "        return chain.from_iterable([combinations(s, l)])\n",
    "\n",
    "    # C: a matix whose ij element indicates there is an edge between label(i) and label(j) if it's one, and vice versa.\n",
    "    # Initializing C as a complete matrix\n",
    "    C = np.ones((len(labels), len(labels))) - np.eye(len(labels))\n",
    "    # l: level, the cardinality of condition set in each iteration.\n",
    "    l = -1\n",
    "    while l < max_adj(C):\n",
    "        l += 1\n",
    "        for i in range(len(labels)):\n",
    "            for j in range(len(labels)):\n",
    "                if C[i, j] == 0:\n",
    "                    continue\n",
    "                else:\n",
    "                    if len(adj(C, i)) - 1 < l:\n",
    "                        break\n",
    "                    else:\n",
    "                        lCardSub = list(lSubsets(np.delete(adj(C, i), np.where(adj(C, i) == j)), l))\n",
    "                        lCardSub = list(map(list, lCardSub))\n",
    "                        for sub in lCardSub:\n",
    "                            if indepTest(i, j, sub, data, alpha) == 1:\n",
    "                                C[i, j] = C[j, i] = 0\n",
    "                                break\n",
    "    return C"
   ]
  },
  {
   "cell_type": "markdown",
   "metadata": {},
   "source": [
    "<font color=\"orange\" size=4>\n",
    "    B) Using PC algorithm to infer graph skeleton with 0.02 significance level.\n",
    "</font>"
   ]
  },
  {
   "cell_type": "code",
   "execution_count": 5,
   "metadata": {},
   "outputs": [
    {
     "data": {
      "image/png": "[encoded data removed]",
      "text/plain": [
       "<Figure size 432x288 with 1 Axes>"
      ]
     },
     "metadata": {},
     "output_type": "display_data"
    }
   ],
   "source": [
    "df = pd.read_csv(\"data_PHW2.csv\")\n",
    "data = np.array(df)\n",
    "labels = df.columns\n",
    "C = pc(data, indepTest, 0.02, labels)\n",
    "show_graph_with_labels(C, labels)"
   ]
  },
  {
   "cell_type": "markdown",
   "metadata": {},
   "source": [
    "<font color=\"orange\" size=4>\n",
    "    C) Implementing PC-stable algorithm\n",
    "</font>"
   ]
  },
  {
   "cell_type": "code",
   "execution_count": 6,
   "metadata": {},
   "outputs": [],
   "source": [
    "def pcStable(data, indepTest, alpha, labels):\n",
    "    \n",
    "    # data: observational data that we want to find its graph.\n",
    "    # indepTest: a function of the form indepTest(x, y, S, data, alpha) which determines the independence of x,y given S.\n",
    "    # alpha: confidence interval\n",
    "    # labels: list of nodes' labels.\n",
    "    \n",
    "    def adj(C, i):\n",
    "        # This function returns nodes adjacent to i\n",
    "        # C: Graph matrix\n",
    "        # i: i'th node\n",
    "        return np.where(C[i, :] == 1)[0]\n",
    "    \n",
    "    def max_adj(C):\n",
    "        # This function determines maximum number of nodes adjacent to some node in C\n",
    "        # C: Graph matrix\n",
    "        m = 0\n",
    "        for i in range(len(labels)):\n",
    "            if len(adj(C, i)) > m:\n",
    "                m = len(adj(C, i))\n",
    "        return m\n",
    "    \n",
    "    def lSubsets(iterable, l):\n",
    "        # This function finds all subsets of an iterable with cardinality equal to l\n",
    "        # iterale: the list or any other iterable object whose subsets we want to find\n",
    "        # l: cardinality of subsets we're looking for\n",
    "        s = list(iterable)\n",
    "        return chain.from_iterable([combinations(s, l)])\n",
    "\n",
    "    # C: a matix whose ij element indicates there is an edge between label(i) and label(j) if it's one, and vice versa.\n",
    "    # Initializing C as a complete matrix\n",
    "    C = np.ones((len(labels), len(labels))) - np.eye(len(labels))\n",
    "    # l: level, the cardinality of condition set in each iteration.\n",
    "    l = -1\n",
    "    while l < max_adj(C):\n",
    "        l += 1\n",
    "        toBeDel = []\n",
    "        for i in range(len(labels)):\n",
    "            for j in range(len(labels)):\n",
    "                if C[i, j] == 0:\n",
    "                    continue\n",
    "                else:\n",
    "                    if len(adj(C, i)) - 1 < l:\n",
    "                        break\n",
    "                    else:\n",
    "                        lCardSub = list(lSubsets(np.delete(adj(C, i), np.where(adj(C, i) == j)), l))\n",
    "                        lCardSub = list(map(list, lCardSub))\n",
    "                        for sub in lCardSub:\n",
    "                            if indepTest(i, j, sub, data, alpha) == 1:\n",
    "                                toBeDel += [[i, j]]\n",
    "                                break\n",
    "                                \n",
    "        for i in toBeDel:\n",
    "            C[i[0], i[1]] = C[i[1], i[0]] = 0\n",
    "            \n",
    "    return C"
   ]
  },
  {
   "cell_type": "code",
   "execution_count": 7,
   "metadata": {},
   "outputs": [
    {
     "data": {
      "image/png": "[encoded data removed]",
      "text/plain": [
       "<Figure size 432x288 with 1 Axes>"
      ]
     },
     "metadata": {},
     "output_type": "display_data"
    }
   ],
   "source": [
    "df = pd.read_csv(\"data_PHW2.csv\")\n",
    "data = np.array(df)\n",
    "labels = df.columns\n",
    "C = pcStable(data, indepTest, 0.02, labels)\n",
    "show_graph_with_labels(C, labels)"
   ]
  },
  {
   "cell_type": "markdown",
   "metadata": {},
   "source": [
    "<font color=\"orange\" size=4>\n",
    "    The graphs infered by PC and PC-stable are the same.\n",
    "</font>"
   ]
  },
  {
   "cell_type": "code",
   "execution_count": 4,
   "metadata": {},
   "outputs": [],
   "source": [
    "def randomDAG(n, prob, lB = 0.1, uB = 1):\n",
    "    \n",
    "    def weight(l):\n",
    "        return np.random.uniform(lB, uB, l).round(2)\n",
    "    \n",
    "    V = np.arange(n)                        # All nodes\n",
    "    Vleft = np.arange(n)                    # Nodes that have not been chosen\n",
    "    CH = {i:np.array([]) for i in range(n)} # Dictionary that holds children of each node\n",
    "    EW = {i:np.array([]) for i in range(n)} # Dictionary that holds weight of edges\n",
    "    C = np.zeros((n, n))                    # Adjacancy matrix\n",
    "    W = np.zeros((n, n))                    # Weight matrix\n",
    "    \n",
    "    for i in range(n):\n",
    "        Vleft = np.delete(Vleft, np.where(Vleft == i))\n",
    "        nonANi = np.array([j for j in V if j > i])\n",
    "        edge = np.random.binomial(size=np.size(nonANi), n=1, p=prob)\n",
    "        edgeWeights = weight(CH[i])\n",
    "        CH[i] = nonANi[edge == 1]\n",
    "        edgeWeights = weight(np.size(CH[i]))\n",
    "        EW[i] = edgeWeights\n",
    "    for i in range(n):\n",
    "        C[i, CH[i].astype(int)] = 1\n",
    "        W[i, CH[i].astype(int)] = EW[i]\n",
    "    return C, W"
   ]
  },
  {
   "cell_type": "code",
   "execution_count": 2,
   "metadata": {},
   "outputs": [],
   "source": [
    "def dagDrawer(C, W):\n",
    "    n = C.shape[0]\n",
    "    G = nx.DiGraph()\n",
    "    G.add_nodes_from(np.arange(n))\n",
    "    for i in range(C.shape[0]):\n",
    "        G.add_edges_from([(i, j, {'weight': W[i, j]}) for j in range(C.shape[0]) if C[i, j] == 1])\n",
    "    \n",
    "    edge_labels=dict([((u,v,),d['weight'])\n",
    "                 for u,v,d in G.edges(data=True)])\n",
    "    pos=nx.spring_layout(G)\n",
    "    plt.figure(figsize=(7, 7))\n",
    "    # Uncomment the line below to show edge weights on them\n",
    "    nx.draw_networkx_edge_labels(G,pos,edge_labels=edge_labels)\n",
    "    nx.draw(G, pos, with_labels=True)"
   ]
  },
  {
   "cell_type": "code",
   "execution_count": 11,
   "metadata": {},
   "outputs": [
    {
     "data": {
      "image/png": "[encoded data removed]",
      "text/plain": [
       "<Figure size 504x504 with 1 Axes>"
      ]
     },
     "metadata": {},
     "output_type": "display_data"
    }
   ],
   "source": [
    "# Testing randomDAG\n",
    "n = 6\n",
    "AA, WW = randomDAG(n, 0.40)\n",
    "dagDrawer(AA, WW)"
   ]
  },
  {
   "cell_type": "code",
   "execution_count": 10,
   "metadata": {},
   "outputs": [],
   "source": [
    "def rmvDAG(n, dag, weight, exNoiseDist):\n",
    "    nodeCount = dag.shape[0]\n",
    "    exNoise = np.zeros((nodeCount, n))\n",
    "    if exNoiseDist == 'normal':\n",
    "        for i in range(nodeCount):\n",
    "            exNoise[i, :] = np.random.normal(0, 1, n)\n",
    "    else:\n",
    "        print('Not defined')\n",
    "        return None\n",
    "    \n",
    "    randomV = np.zeros((nodeCount, n))\n",
    "    for i in range(nodeCount):\n",
    "        randomV[i, :] = (weight[:, i] @ randomV) + exNoise[i, :]\n",
    "    \n",
    "    return randomV"
   ]
  },
  {
   "cell_type": "code",
   "execution_count": 11,
   "metadata": {},
   "outputs": [],
   "source": [
    "nodeCount = 20\n",
    "labels = np.arange(nodeCount)\n",
    "trials = 200\n",
    "confidenceLevel = np.array([0.0025, 0.005, 0.01, 0.02])\n",
    "recall = np.zeros((np.size(confidenceLevel), trials))\n",
    "missing = np.zeros((np.size(confidenceLevel), trials))\n",
    "recallst = np.zeros((np.size(confidenceLevel), trials))\n",
    "missingst = np.zeros((np.size(confidenceLevel), trials))"
   ]
  },
  {
   "cell_type": "code",
   "execution_count": 12,
   "metadata": {},
   "outputs": [
    {
     "name": "stderr",
     "output_type": "stream",
     "text": [
      "100%|████████████████████████████████████████████████████████████████████████████████| 200/200 [12:53<00:00,  3.77s/it]\n",
      "100%|████████████████████████████████████████████████████████████████████████████████| 200/200 [14:03<00:00,  3.68s/it]\n",
      "100%|████████████████████████████████████████████████████████████████████████████████| 200/200 [15:43<00:00,  4.08s/it]\n",
      "100%|████████████████████████████████████████████████████████████████████████████████| 200/200 [16:47<00:00,  4.26s/it]\n"
     ]
    }
   ],
   "source": [
    "for i in range(np.size(confidenceLevel)):\n",
    "    alpha = confidenceLevel[i]\n",
    "    for k in tqdm(np.arange(trials)):\n",
    "        A, W = randomDAG(nodeCount, 0.2, 0.1, 1)\n",
    "        data = rmvDAG(1000, A, W, 'normal').T\n",
    "        C = pc(data, indepTest, alpha, labels)\n",
    "        Cstable = pcStable(data, indepTest, alpha, labels)\n",
    "        recall[i, k] = np.sum(A * C) / np.sum(A)\n",
    "        recallst[i, k] = np.sum(A * Cstable) / np.sum(A)\n",
    "        missing[i, k] = np.sum((A - np.triu(C)) > 0) / np.sum(A)\n",
    "        missingst[i, k] = np.sum((A - np.triu(Cstable))>0) / np.sum(A)"
   ]
  },
  {
   "cell_type": "code",
   "execution_count": 13,
   "metadata": {},
   "outputs": [
    {
     "name": "stdout",
     "output_type": "stream",
     "text": [
      "Recall PC Algorithm:  [0.7065411  0.70951284 0.71750731 0.72756483]\n"
     ]
    }
   ],
   "source": [
    "print(\"Recall PC Algorithm: \", recall.mean(axis=1))"
   ]
  },
  {
   "cell_type": "code",
   "execution_count": 14,
   "metadata": {},
   "outputs": [
    {
     "name": "stdout",
     "output_type": "stream",
     "text": [
      "Recall PC Stable Algorithm:  [0.70229006 0.70414841 0.71258936 0.72163015]\n"
     ]
    }
   ],
   "source": [
    "print(\"Recall PC Stable Algorithm: \", recallst.mean(axis=1))"
   ]
  },
  {
   "cell_type": "code",
   "execution_count": 15,
   "metadata": {},
   "outputs": [
    {
     "name": "stdout",
     "output_type": "stream",
     "text": [
      "Missing PC Algorithm:  [0.2934589  0.29048716 0.28249269 0.27243517]\n"
     ]
    }
   ],
   "source": [
    "print(\"Missing PC Algorithm: \", missing.mean(axis=1))"
   ]
  },
  {
   "cell_type": "code",
   "execution_count": 16,
   "metadata": {},
   "outputs": [
    {
     "name": "stdout",
     "output_type": "stream",
     "text": [
      "Missing PC Stable:  [0.29770994 0.29585159 0.28741064 0.27836985]\n"
     ]
    }
   ],
   "source": [
    "print(\"Missing PC Stable: \", missingst.mean(axis=1))"
   ]
  },
  {
   "cell_type": "markdown",
   "metadata": {},
   "source": [
    "<font color=\"orange\" size=4>\n",
    "    As we can see PC and PC Stable don't differ much. \n",
    "    <br />\n",
    "    About the confidence level, as we increase it, the recall goes higher and number of missing edges decreases. That is because increasing alpha makes conditions for independence tighter. One thing to mention is that you can't set alpha a great number because it would decreas the precision(number of false positives). So it's better to compare F1 score to find the best alpha. \n",
    "</font>"
   ]
  }
 ],
 "metadata": {
  "kernelspec": {
   "display_name": "Python 3",
   "language": "python",
   "name": "python3"
  },
  "language_info": {
   "codemirror_mode": {
    "name": "ipython",
    "version": 3
   },
   "file_extension": ".py",
   "mimetype": "text/x-python",
   "name": "python",
   "nbconvert_exporter": "python",
   "pygments_lexer": "ipython3",
   "version": "3.7.3"
  }
 },
 "nbformat": 4,
 "nbformat_minor": 4
}
