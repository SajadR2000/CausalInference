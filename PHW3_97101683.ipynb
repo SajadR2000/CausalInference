{
 "cells": [
  {
   "cell_type": "markdown",
   "metadata": {},
   "source": [
    "# HW3\n",
    "## Sajad Rahmanian\n",
    "## 97101683"
   ]
  },
  {
   "cell_type": "markdown",
   "metadata": {},
   "source": [
    "## Imports"
   ]
  },
  {
   "cell_type": "code",
   "execution_count": 1,
   "metadata": {},
   "outputs": [],
   "source": [
    "import numpy as np"
   ]
  },
  {
   "cell_type": "markdown",
   "metadata": {},
   "source": [
    "## Connected Components\n",
    "For finding CCs of and undirected graph we use [DFS](https://en.wikipedia.org/wiki/Depth-first_search \"Wikipedia\") algorithm. And the test result shows that it works correctly."
   ]
  },
  {
   "cell_type": "code",
   "execution_count": 2,
   "metadata": {},
   "outputs": [],
   "source": [
    "class UG():\n",
    "    def __init__(self, GG):\n",
    "        self.V = GG.shape[0]\n",
    "        self.G = GG.copy()\n",
    "        self.adj = [[] for i in range(GG.shape[0])]\n",
    "        self.visitFlag = [False for i in range(GG.shape[0])]\n",
    "        self.Components = []\n",
    "\n",
    "    def DFS(self, Component, v):\n",
    "        # Setting V as a visited node and adding it to the Component:\n",
    "        self.visitFlag[v] = True\n",
    "        Component.append(v)\n",
    "        # Finding adjacents of v and running DFS for them in order to complete the Component:\n",
    "        for adjacent in self.adj[v]:\n",
    "            if self.visitFlag[adjacent] == False:\n",
    "                self.DFS(Component, adjacent)\n",
    "        \n",
    "        return Component\n",
    "    \n",
    "    def FindAdjacents(self):\n",
    "        # Filling the adj list which holds adjacents of each node:\n",
    "        for u in range(self.V):\n",
    "            for w in range(self.V):\n",
    "                if self.G[u, w] == 1:\n",
    "                    self.adj[u].append(w)\n",
    "                    \n",
    "    def ConnectedComponents(self):\n",
    "        self.FindAdjacents()\n",
    "        \n",
    "        for v in range(self.V):\n",
    "            if self.visitFlag[v] == True:\n",
    "                continue\n",
    "            \n",
    "            component = []\n",
    "            cc = self.DFS(component, v)\n",
    "            self.Components.append(cc)\n",
    "        \n",
    "        return self.Components\n",
    "            "
   ]
  },
  {
   "cell_type": "code",
   "execution_count": 3,
   "metadata": {},
   "outputs": [
    {
     "data": {
      "text/plain": [
       "[[0, 1], [2, 3], [4, 5, 6, 7]]"
      ]
     },
     "execution_count": 3,
     "metadata": {},
     "output_type": "execute_result"
    }
   ],
   "source": [
    "# Testing UG:\n",
    "G = np.array([[0,1,0,0,0,0,0,0],[1,0,0,0,0,0,0,0],[0,0,0,1,0,0,0,0], [0,0,1,0,0,0,0,0], [0,0,0,0,0,1,0,0],[0,0,0,0,1,0,1,0],[0,0,0,0,0,1,0,1], [0,0,0,0,0,0,1,0]])\n",
    "cc = UG(G).ConnectedComponents()\n",
    "cc"
   ]
  },
  {
   "cell_type": "markdown",
   "metadata": {},
   "source": [
    "## Implementing *ChainCom* algorithm"
   ]
  },
  {
   "cell_type": "code",
   "execution_count": 4,
   "metadata": {},
   "outputs": [],
   "source": [
    "def ChainCom(U, v):\n",
    "    A = {v}\n",
    "    B = {i for i in range(U.shape[0]) if i != v}\n",
    "    G = U.copy()\n",
    "    O = []\n",
    "    while len(B) != 0:\n",
    "        T = set()\n",
    "        # Finding nodes of B that are adjacent to any node in A and inserting them into T: \n",
    "        for w in B:\n",
    "            for a in A:\n",
    "                if (G[w, a] == 1) & (G[a, w] == 1):\n",
    "                    T.update([w])\n",
    "        # Orienting all edges between A and T:\n",
    "        for c in A:\n",
    "            for t in T:\n",
    "                if (G[c, t] == 1) & (G[t, c] == 1):\n",
    "                    G[t, c] = 0\n",
    "        \n",
    "        # Orienting y-z for y,z,x of the form x->y-z\n",
    "        keepRunning = True\n",
    "        while keepRunning:\n",
    "            keepRunning = False\n",
    "            for t in T:\n",
    "                for j in T:\n",
    "                    if (G[t, j] == 1) & (G[j, t] == 1):\n",
    "                        for x in range(U.shape[0]):\n",
    "                            if (G[x, t] == 1) & (G[t, x] == 0) & (G[x, j] == 0) & (G[j, x] == 0):\n",
    "                                G[j, t] = 0\n",
    "                                keepRunning = True\n",
    "        # Updating A, B\n",
    "        A = T\n",
    "        B = B.difference(T)\n",
    "        # Inserting all chain components of G_T into O\n",
    "        G1 = G * G.T\n",
    "        T = list(T)\n",
    "        T.sort()\n",
    "        G1 = G1[np.array(T)[:, None], np.array(T)]\n",
    "        cc = UG(G1).ConnectedComponents()\n",
    "        for c in cc:\n",
    "            c.sort()\n",
    "            c = np.array(c)\n",
    "            O += [G1[c[:, None], c]]\n",
    "            \n",
    "    return G, O"
   ]
  },
  {
   "cell_type": "markdown",
   "metadata": {},
   "source": [
    "## Implementing *SizeMEC* algorithm"
   ]
  },
  {
   "cell_type": "code",
   "execution_count": 5,
   "metadata": {},
   "outputs": [],
   "source": [
    "def SizeMEC(U):\n",
    "    # Determining number of nodes and edges of the input UCCG\n",
    "    p = U.shape[0]\n",
    "    n = U.sum() / 2\n",
    "    # Base graphs sizemec\n",
    "    if n == p - 1:\n",
    "        return p\n",
    "    elif n == p:\n",
    "        return 2 * p\n",
    "    elif n == p * (p - 1) / 2 - 2:\n",
    "        return (p ** 2 - p - 4) * np.math.factorial(p - 3)\n",
    "    elif n == p * (p - 1) / 2 - 1:\n",
    "        return 2 * np.math.factorial(p - 1) - np.math.factorial(p - 2)\n",
    "    elif n == p * (p - 1) / 2:\n",
    "        return np.math.factorial(p)\n",
    "    \n",
    "    # Recursive part of the algorithm\n",
    "    out = 0\n",
    "    for j in range(p):\n",
    "        s = 1\n",
    "        G, O = ChainCom(U, j)\n",
    "        for uu in O:\n",
    "            s *= SizeMEC(uu)\n",
    "        out += s\n",
    "    return out"
   ]
  },
  {
   "cell_type": "markdown",
   "metadata": {},
   "source": [
    "## Testing the algorithms\n",
    "The algorithm has been tested for three UCCGs and answered correcly. The first graph is from the paper that intrduced these algorithms.\n",
    "The second graph is from *Active Learning of Causal Networks\n",
    "with Intervention Experiments and Optimal Designs* by Yang-Bo He and Zhi Geng and all of its 12 dags are presented there. And the third graph is an easy one since it could be originated from all combinations except for one that yields a v-structure. So its number of dags is 4 - 1 = 3."
   ]
  },
  {
   "cell_type": "code",
   "execution_count": 6,
   "metadata": {},
   "outputs": [
    {
     "data": {
      "text/plain": [
       "14"
      ]
     },
     "execution_count": 6,
     "metadata": {},
     "output_type": "execute_result"
    }
   ],
   "source": [
    "A = np.array([[0, 1, 1, 0, 0], [1, 0, 1, 1, 1], [1, 1, 0, 0, 1], [0, 1, 0, 0, 1], [0, 1, 1, 1, 0]])\n",
    "SizeMEC(A)"
   ]
  },
  {
   "cell_type": "code",
   "execution_count": 7,
   "metadata": {},
   "outputs": [
    {
     "data": {
      "text/plain": [
       "12"
      ]
     },
     "execution_count": 7,
     "metadata": {},
     "output_type": "execute_result"
    }
   ],
   "source": [
    "B = np.array([[0, 1, 1, 0, 0], [1, 0, 1, 1, 0], [1, 1, 0, 1, 0], [0, 1, 1, 0, 1], [0, 0, 0, 1, 0]])\n",
    "SizeMEC(B)"
   ]
  },
  {
   "cell_type": "code",
   "execution_count": 8,
   "metadata": {},
   "outputs": [
    {
     "data": {
      "text/plain": [
       "3"
      ]
     },
     "execution_count": 8,
     "metadata": {},
     "output_type": "execute_result"
    }
   ],
   "source": [
    "C = np.array([[0, 1, 0], [1, 0, 1], [0, 1, 0]])\n",
    "SizeMEC(C)"
   ]
  }
 ],
 "metadata": {
  "kernelspec": {
   "display_name": "Python 3",
   "language": "python",
   "name": "python3"
  },
  "language_info": {
   "codemirror_mode": {
    "name": "ipython",
    "version": 3
   },
   "file_extension": ".py",
   "mimetype": "text/x-python",
   "name": "python",
   "nbconvert_exporter": "python",
   "pygments_lexer": "ipython3",
   "version": "3.7.3"
  }
 },
 "nbformat": 4,
 "nbformat_minor": 4
}
